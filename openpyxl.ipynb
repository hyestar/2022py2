{
 "cells": [
  {
   "cell_type": "code",
   "execution_count": 15,
   "metadata": {},
   "outputs": [
    {
     "name": "stdout",
     "output_type": "stream",
     "text": [
      "2\n",
      "3\n",
      "5\n",
      "6\n",
      "8\n",
      "9\n"
     ]
    }
   ],
   "source": [
    "# openpyxl모듈 가져옴\n",
    "from openpyxl import *\n",
    "\n",
    "# 엑셀추가\n",
    "w1 = Workbook()\n",
    "ws = w1.active\n",
    "# 엑셀저장\n",
    "w1.save(\"test.xlsx\")\n",
    "# 엑셀로드\n",
    "w2 = load_workbook(\"test.xlsx\")\n",
    "ws2 = w2.active\n",
    "# 셀을 선택해서 편집하는 방법\n",
    "ws2[\"A1\"] = \"hello\"\n",
    "w2.save(\"test.xlsx\")\n",
    "ws2[\"D3\"] = \"hahaha\"\n",
    "w2.save(\"test.xlsx\")\n",
    "# 원하는 만큼 엑셀 편집\n",
    "num = \"aaa\"\n",
    "for row in ws2[\"A1\":\"C3\"]:\n",
    "    for cell in row:\n",
    "        cell.value = num\n",
    "w2.save(\"test.xlsx\")\n",
    "num = 1\n",
    "for row in ws2[\"A1\":\"C3\"]:\n",
    "    for cell in row:\n",
    "        cell.value = num\n",
    "        num+=1\n",
    "w2.save(\"test.xlsx\")\n",
    "for row in ws2.iter_rows(min_row=1, min_col=2, max_col=3, max_row=3):\n",
    "    for cell in row:\n",
    "        print(cell.value)"
   ]
  },
  {
   "cell_type": "code",
   "execution_count": 21,
   "metadata": {},
   "outputs": [],
   "source": [
    "# 신규 엑셀 시트 생성\n",
    "# 새로운 엑셀 시트는 맨 마지막 탭에 생성된다.\n",
    "wsnew = w2.create_sheet()\n",
    "# 시트 이름 변경\n",
    "wsnew.title = \"1번시트\"\n",
    "# 원하는 위치에 원하는 이름으로 시트 생성\n",
    "wsnew = w2.create_sheet(\"0번시트\",0)\n",
    "w2.save(\"test.xlsx\")"
   ]
  },
  {
   "cell_type": "code",
   "execution_count": 25,
   "metadata": {},
   "outputs": [
    {
     "name": "stdout",
     "output_type": "stream",
     "text": [
      "1\n",
      "1\n",
      "3\n"
     ]
    }
   ],
   "source": [
    "list1 = [1,2,3,4]\n",
    "tuple1 = (1,2,3,4)\n",
    "print(list1[0])\n",
    "print(tuple1[0])\n",
    "# 리스트는 수정 가능\n",
    "list1[0] = 3\n",
    "print(list1[0])\n",
    "# 튜플은 수정 불가능\n",
    "tuple1[0] = 3\n"
   ]
  },
  {
   "cell_type": "code",
   "execution_count": 26,
   "metadata": {},
   "outputs": [],
   "source": [
    "# 1) 딕셔너리 만들기\n",
    "item1 = {\"품목\":\"바나나\", \"가격\":5000, \"수량\":1, \"날짜\":\"2022년 03월 24일\"}\n",
    "item2 = {\"품목\":\"커피\", \"가격\":3000, \"수량\":2, \"날짜\":\"2022년 03월 25일\"}\n",
    "item3 = {\"품목\":\"책\", \"가격\":15000, \"수량\":1, \"날짜\":\"2022년 03월 26일\"}\n",
    "item4 = {\"품목\":\"펜\", \"가격\":2000, \"수량\":4, \"날짜\":\"2022년 03월 27일\"}\n",
    "# 2) 딕셔너리가 들어있는 리스트 만들기\n",
    "items = [item1, item2, item3, item4]\n",
    "# 3) 엑셀 파일 생성\n",
    "wb = Workbook()\n",
    "ws = wb.active\n",
    "# 4) 헤더만들기\n",
    "ws[\"A1\"]=\"품목\"\n",
    "ws[\"B1\"]=\"가격\"\n",
    "ws[\"C1\"]=\"수량\"\n",
    "ws[\"D1\"]=\"날짜\"\n",
    "# 5) 데이터 삽입\n",
    "i = 2\n",
    "for item in items:\n",
    "    ws[\"A\"+str(i)] = item[\"품목\"]\n",
    "    ws[\"B\"+str(i)] = item[\"가격\"]\n",
    "    ws[\"C\"+str(i)] = item[\"수량\"]\n",
    "    ws[\"D\"+str(i)] = item[\"날짜\"]\n",
    "    i+=1\n",
    "wb.save('account.xlsx')"
   ]
  },
  {
   "cell_type": "code",
   "execution_count": 29,
   "metadata": {},
   "outputs": [
    {
     "name": "stdout",
     "output_type": "stream",
     "text": [
      "지금부터 5초후\n",
      "출력\n"
     ]
    }
   ],
   "source": [
    "import time\n",
    "print(\"지금부터 5초후\")\n",
    "time.sleep(5)\n",
    "print(\"출력\")"
   ]
  },
  {
   "cell_type": "code",
   "execution_count": null,
   "metadata": {},
   "outputs": [],
   "source": []
  }
 ],
 "metadata": {
  "interpreter": {
   "hash": "4e0b39fdc4f2df2992ef135d097972ec225e019845a073717c5b1bc8df292c8a"
  },
  "kernelspec": {
   "display_name": "Python 3.10.2 64-bit",
   "language": "python",
   "name": "python3"
  },
  "language_info": {
   "codemirror_mode": {
    "name": "ipython",
    "version": 3
   },
   "file_extension": ".py",
   "mimetype": "text/x-python",
   "name": "python",
   "nbconvert_exporter": "python",
   "pygments_lexer": "ipython3",
   "version": "3.10.2"
  },
  "orig_nbformat": 4
 },
 "nbformat": 4,
 "nbformat_minor": 2
}
