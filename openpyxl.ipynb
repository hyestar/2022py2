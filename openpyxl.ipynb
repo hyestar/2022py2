{
 "cells": [
  {
   "cell_type": "code",
   "execution_count": 15,
   "metadata": {},
   "outputs": [
    {
     "name": "stdout",
     "output_type": "stream",
     "text": [
      "2\n",
      "3\n",
      "5\n",
      "6\n",
      "8\n",
      "9\n"
     ]
    }
   ],
   "source": [
    "# openpyxl모듈 가져옴\n",
    "from openpyxl import *\n",
    "\n",
    "# 엑셀추가\n",
    "w1 = Workbook()\n",
    "ws = w1.active\n",
    "# 엑셀저장\n",
    "w1.save(\"test.xlsx\")\n",
    "# 엑셀로드\n",
    "w2 = load_workbook(\"test.xlsx\")\n",
    "ws2 = w2.active\n",
    "# 셀을 선택해서 편집하는 방법\n",
    "ws2[\"A1\"] = \"hello\"\n",
    "w2.save(\"test.xlsx\")\n",
    "ws2[\"D3\"] = \"hahaha\"\n",
    "w2.save(\"test.xlsx\")\n",
    "# 원하는 만큼 엑셀 편집\n",
    "num = \"aaa\"\n",
    "for row in ws2[\"A1\":\"C3\"]:\n",
    "    for cell in row:\n",
    "        cell.value = num\n",
    "w2.save(\"test.xlsx\")\n",
    "num = 1\n",
    "for row in ws2[\"A1\":\"C3\"]:\n",
    "    for cell in row:\n",
    "        cell.value = num\n",
    "        num+=1\n",
    "w2.save(\"test.xlsx\")\n",
    "for row in ws2.iter_rows(min_row=1, min_col=2, max_col=3, max_row=3):\n",
    "    for cell in row:\n",
    "        print(cell.value)"
   ]
  },
  {
   "cell_type": "code",
   "execution_count": 3,
   "metadata": {},
   "outputs": [],
   "source": []
  },
  {
   "cell_type": "code",
   "execution_count": null,
   "metadata": {},
   "outputs": [],
   "source": []
  }
 ],
 "metadata": {
  "interpreter": {
   "hash": "4e0b39fdc4f2df2992ef135d097972ec225e019845a073717c5b1bc8df292c8a"
  },
  "kernelspec": {
   "display_name": "Python 3.10.2 64-bit",
   "language": "python",
   "name": "python3"
  },
  "language_info": {
   "codemirror_mode": {
    "name": "ipython",
    "version": 3
   },
   "file_extension": ".py",
   "mimetype": "text/x-python",
   "name": "python",
   "nbconvert_exporter": "python",
   "pygments_lexer": "ipython3",
   "version": "3.10.2"
  },
  "orig_nbformat": 4
 },
 "nbformat": 4,
 "nbformat_minor": 2
}
