{
 "cells": [
  {
   "cell_type": "code",
   "execution_count": 8,
   "metadata": {},
   "outputs": [
    {
     "name": "stdout",
     "output_type": "stream",
     "text": [
      "{'1월': 31, '2월': 28, '3월': 31}\n"
     ]
    }
   ],
   "source": [
    "# 문제 : 딕셔너리에 각 달의 마지막 날들을 한번에 담기\n",
    "# 조건 : 1월 ~ 3월까지\n",
    "# 조건 : 2월의 마지막은 28일로 함\n",
    "# 조건 : 첫 데이터의 key는 \"1월\", value는 31일\n",
    "month = {\"1월\":31, \"2월\":28, \"3월\":31}\n",
    "print(month)\n",
    "\n"
   ]
  },
  {
   "cell_type": "code",
   "execution_count": 12,
   "metadata": {},
   "outputs": [
    {
     "name": "stdout",
     "output_type": "stream",
     "text": [
      "{'1월': 31}\n",
      "{'1월': 31, '2월': 28}\n",
      "{'1월': 31, '2월': 28, '3월': 31}\n",
      "{'1월': 31, '2월': 28, '3월': 28}\n"
     ]
    }
   ],
   "source": [
    "# 문제 : 딕셔너리에 각 달의 마지막 날들을 반복문을 통해 담기\n",
    "month = {}\n",
    "# 딕셔너리 추가\n",
    "month[\"1월\"] = 31\n",
    "print(month)\n",
    "month[\"2월\"] = 28\n",
    "print(month)\n",
    "month[\"3월\"] = 31\n",
    "print(month)\n",
    "# 딕셔너리 수정\n",
    "month[\"3월\"] = 28\n",
    "print(month)"
   ]
  },
  {
   "cell_type": "code",
   "execution_count": 14,
   "metadata": {},
   "outputs": [
    {
     "name": "stdout",
     "output_type": "stream",
     "text": [
      "{'1월': 31, '2월': 28, '3월': 31, '4월': 30, '5월': 31, '6월': 30, '7월': 31, '8월': 31, '9월': 30, '10월': 31, '11월': 30, '12월': 31}\n"
     ]
    }
   ],
   "source": [
    "# 문제 : 딕셔너리에 각 달의 마지막 날들을 반복문을 통해 담기\n",
    "\n",
    "month_end_days = {}\n",
    "for i in range(1, 12+1):\n",
    "    month = str(i)+\"월\"\n",
    "    endday = 31\n",
    "    if i == 2:\n",
    "        endday = 28\n",
    "    elif i in [4, 6, 9, 11] :\n",
    "        endday = 30\n",
    "    month_end_days[month] = endday\n",
    "print(month_end_days)"
   ]
  },
  {
   "cell_type": "code",
   "execution_count": 20,
   "metadata": {},
   "outputs": [
    {
     "name": "stdout",
     "output_type": "stream",
     "text": [
      "{'1월': 31, '2월': 28, '3월': 31, '4월': 30, '5월': 31, '6월': 30, '7월': 31, '8월': 31, '9월': 30, '10월': 31, '11월': 30, '12월': 31}\n"
     ]
    }
   ],
   "source": [
    "# 문제 : 딕셔너리에 각 달의 마지막 날들을 반복문을 통해 담기\n",
    "month_end_days = {}\n",
    "month_end_days_list = [31,28,31,30,31,30,31,31,30,31,30,31]\n",
    "\n",
    "for i, j in enumerate(month_end_days_list):\n",
    "    month = str(i+1)+\"월\"\n",
    "    month_end_days[month] = j\n",
    "print(month_end_days)\n"
   ]
  },
  {
   "cell_type": "code",
   "execution_count": 22,
   "metadata": {},
   "outputs": [
    {
     "name": "stdout",
     "output_type": "stream",
     "text": [
      "31\n",
      "28\n",
      "31\n"
     ]
    }
   ],
   "source": [
    "# 문제 : 딕셔너리에 각 달의 마지막 날들을 한번에 담고, 수작업으로 순회출력\n",
    "# 조건 : 1월부터 3월까지만 담고 출력해주세요\n",
    "m = {}\n",
    "m[\"1월\"] = 31\n",
    "m[\"2월\"] = 28\n",
    "m[\"3월\"] = 31\n",
    "print(m[\"1월\"])\n",
    "print(m[\"2월\"])\n",
    "print(m[\"3월\"])"
   ]
  },
  {
   "cell_type": "code",
   "execution_count": 24,
   "metadata": {},
   "outputs": [
    {
     "name": "stdout",
     "output_type": "stream",
     "text": [
      "1월\n",
      "2월\n",
      "3월\n",
      "1월\n",
      "2월\n",
      "3월\n"
     ]
    }
   ],
   "source": [
    "# 문제 : 딕셔너리에 각 달의 마지막 날들을 한번에 담고, keys()로 key 순회출력\n",
    "m = {}\n",
    "m[\"1월\"] = 31\n",
    "m[\"2월\"] = 28\n",
    "m[\"3월\"] = 31\n",
    "for key in m.keys():\n",
    "    print(key)\n",
    "for key in m:\n",
    "    print(key)"
   ]
  },
  {
   "cell_type": "code",
   "execution_count": 2,
   "metadata": {},
   "outputs": [
    {
     "name": "stdout",
     "output_type": "stream",
     "text": [
      "1월는 31까지 있습니다.\n",
      "2월는 28까지 있습니다.\n",
      "3월는 31까지 있습니다.\n"
     ]
    }
   ],
   "source": [
    "# 문제 : 딕셔너리에 각 달의 마지막 날들을 한번에 담고, keys()로 key, value 순회출력\n",
    "m = {\"1월\": 31, \"2월\":28, \"3월\":31}\n",
    "for month in m.keys():\n",
    "    endday = m[month]\n",
    "    print(month+\"는 \"+ str(endday)+\"까지 있습니다.\")"
   ]
  },
  {
   "cell_type": "code",
   "execution_count": 3,
   "metadata": {},
   "outputs": [
    {
     "name": "stdout",
     "output_type": "stream",
     "text": [
      "31\n",
      "28\n",
      "31\n"
     ]
    }
   ],
   "source": [
    "# 문제 : 딕셔너리에 각 달의 마지막 날들을 한번에 담고, values()로 value 순회출력\n",
    "m = {\"1월\": 31, \"2월\":28, \"3월\":31}\n",
    "for endday in m.values():\n",
    "    print(endday)"
   ]
  },
  {
   "cell_type": "code",
   "execution_count": 5,
   "metadata": {},
   "outputs": [
    {
     "name": "stdout",
     "output_type": "stream",
     "text": [
      "1월 31\n",
      "2월 28\n",
      "3월 31\n"
     ]
    }
   ],
   "source": [
    "# 문제 : 딕셔너리에 각 달의 마지막 날들을 한번에 담고, items()로 key, value 순회출력\n",
    "m = {\"1월\": 31, \"2월\":28, \"3월\":31}\n",
    "for key, value in m.items():\n",
    "    print(key, value)"
   ]
  },
  {
   "cell_type": "code",
   "execution_count": 6,
   "metadata": {},
   "outputs": [
    {
     "name": "stdout",
     "output_type": "stream",
     "text": [
      "{'1월': 31, '2월': 28, '3월': 31}\n",
      "{'1월': 31, '2월': 28}\n"
     ]
    }
   ],
   "source": [
    "# (문제) 딕셔너리에 각 달의 마지막 날들을 한번에 담고, 3월 정보를 제거\n",
    "m = {\"1월\": 31, \"2월\":28, \"3월\":31}\n",
    "print(m)\n",
    "del m[\"3월\"]\n",
    "print(m)"
   ]
  },
  {
   "cell_type": "code",
   "execution_count": 7,
   "metadata": {},
   "outputs": [
    {
     "name": "stdout",
     "output_type": "stream",
     "text": [
      "{'1월': 31, '2월': 29, '3월': 31}\n"
     ]
    }
   ],
   "source": [
    "# 문제 : 딕셔너리에 각 달의 마지막 날들을 한번에 담고, 2월을 29일로 수정\n",
    "m = {\"1월\": 31, \"2월\":28, \"3월\":31}\n",
    "m[\"2월\"] = 29\n",
    "print(m)"
   ]
  },
  {
   "cell_type": "code",
   "execution_count": 11,
   "metadata": {},
   "outputs": [
    {
     "name": "stdout",
     "output_type": "stream",
     "text": [
      "{'1월': 31, '2월': 29, '3월': 31, '4월': 30, '5월': 31}\n"
     ]
    }
   ],
   "source": [
    "# 문제 : 딕셔너리에 각 달의 마지막 날들을 한번에 담고, \n",
    "# update를 이용하여, 2월을 29일로 수정하고 4월, 5월의 정보도 추가\n",
    "m1 = {\"1월\": 31, \"2월\":28, \"3월\":31}\n",
    "m2 = {\"2월\" : 29, \"4월\":30, \"5월\":31}\n",
    "m1.update(m2)\n",
    "print(m1)"
   ]
  },
  {
   "cell_type": "code",
   "execution_count": 16,
   "metadata": {},
   "outputs": [
    {
     "name": "stdout",
     "output_type": "stream",
     "text": [
      "{'영수': 11, '영희': 12, '철수': 13, '민수': 14, '희수': 15}\n",
      "{'영수': 11, '영희': 12, '철수': 13, '민수': 14}\n",
      "{'영희': 12, '철수': 13, '민수': 14}\n",
      "{'영희': 12, '철수': 13, '민수': 14, '영수': 11}\n"
     ]
    }
   ],
   "source": [
    "# 문제 : 영수, 영희, 철수, 민수의 나이를 딕셔너리에 담기\n",
    "# 조건 : 가장 효율적인 데이터구조를 유지해주시면 됩니다.\n",
    "# 변수명을 명확하고 간결하게 지어주시면 됩니다.\n",
    "# 영수 : 11살, 영희 : 12살, 철수 : 13살, \n",
    "# 민수 : 14살\n",
    "# 15살 희수가 있었으나 전학을 갔다. 기록을 삭제해야 한다.\n",
    "\n",
    "ages = {\"영수\":11, \"영희\":12, \"철수\":13, \"민수\":14}\n",
    "ages[\"희수\"] = 15\n",
    "print(ages)\n",
    "del ages[\"희수\"]\n",
    "print(ages)\n",
    "del ages[\"영수\"]\n",
    "print(ages)\n",
    "ages[\"영수\"] = 11\n",
    "print(ages)"
   ]
  },
  {
   "cell_type": "code",
   "execution_count": 19,
   "metadata": {},
   "outputs": [
    {
     "name": "stdout",
     "output_type": "stream",
     "text": [
      "영수의 나이는 11입니다.\n",
      "영희의 나이는 12입니다.\n",
      "철수의 나이는 13입니다.\n",
      "민수의 나이는 14입니다.\n"
     ]
    }
   ],
   "source": [
    "# 문제 : 영수, 영희, 철수, 민수의 나이를 딕셔너리에 담고, 데이터를 넣은 순서대로 순회출력\n",
    "ages = {\"영수\":11, \"영희\":12, \"철수\":13, \"민수\":14}\n",
    "for name, age in ages.items():\n",
    "    print(name+\"의 나이는 \"+str(age)+\"입니다.\")"
   ]
  },
  {
   "cell_type": "code",
   "execution_count": 20,
   "metadata": {},
   "outputs": [
    {
     "name": "stdout",
     "output_type": "stream",
     "text": [
      "자동차가 최대속력 220km로 달립니다.\n",
      "자동차가 최대속력 250km로 달립니다.\n"
     ]
    }
   ],
   "source": [
    "# 문제 : 자동차 객체를 담을 변수를 만들어주세요.\n",
    "# 자동차 객체를 변수에 담고 그 변수를 이용해 최고속력이 서로 다르게 만들어주세요.\n",
    "\n",
    "# 각 자동차가 자신의 최고속력으로 달리게 해주세요.\n",
    "\n",
    "\n",
    "# 출력 : 자동차가 최대속력 220km로 달립니다.\n",
    "# 출력 : 자동차가 최대속력 250km로 달립니다.\n",
    "class Car :\n",
    "    maxV = 0\n",
    "    def drive(self):\n",
    "        print(\"자동차가 최대속력 {}km로 달립니다.\".format(self.maxV))\n",
    "c1 = Car()\n",
    "c2 = Car()\n",
    "c1.maxV = 220\n",
    "c2.maxV = 250\n",
    "c1.drive()\n",
    "c2.drive()"
   ]
  },
  {
   "cell_type": "code",
   "execution_count": 21,
   "metadata": {},
   "outputs": [
    {
     "name": "stdout",
     "output_type": "stream",
     "text": [
      "자동차가 최대속력 220km로 달립니다.\n",
      "자동차가 최대속력 250km로 달립니다.\n"
     ]
    }
   ],
   "source": [
    "# 문제 : 자동차 객체를 담을 변수를 만들어주세요.\n",
    "# 자동차 객체를 변수에 담고 그 변수를 이용해 최고속력이 서로 다르게 만들어주세요.\n",
    "\n",
    "# 각 자동차가 자신의 최고속력으로 달리게 해주세요.\n",
    "\n",
    "\n",
    "# 출력 : 자동차가 최대속력 220km로 달립니다.\n",
    "# 출력 : 자동차가 최대속력 250km로 달립니다.\n",
    "\n",
    "class Car :\n",
    "    def __init__(self, maxV):\n",
    "        self.maxV = maxV\n",
    "    def drive(self):\n",
    "        print(\"자동차가 최대속력 {}km로 달립니다.\".format(self.maxV))\n",
    "c1 = Car(220)\n",
    "c2 = Car(250)\n",
    "c1.drive()\n",
    "c2.drive()"
   ]
  },
  {
   "cell_type": "code",
   "execution_count": null,
   "metadata": {},
   "outputs": [],
   "source": []
  }
 ],
 "metadata": {
  "interpreter": {
   "hash": "4e0b39fdc4f2df2992ef135d097972ec225e019845a073717c5b1bc8df292c8a"
  },
  "kernelspec": {
   "display_name": "Python 3.10.2 64-bit",
   "language": "python",
   "name": "python3"
  },
  "language_info": {
   "codemirror_mode": {
    "name": "ipython",
    "version": 3
   },
   "file_extension": ".py",
   "mimetype": "text/x-python",
   "name": "python",
   "nbconvert_exporter": "python",
   "pygments_lexer": "ipython3",
   "version": "3.10.2"
  },
  "orig_nbformat": 4
 },
 "nbformat": 4,
 "nbformat_minor": 2
}
