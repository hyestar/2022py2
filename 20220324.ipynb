{
 "cells": [
  {
   "cell_type": "code",
   "execution_count": 2,
   "metadata": {},
   "outputs": [],
   "source": [
    "# test2.txt 파일을 생성해주세요.\n",
    "f1 = open(\"test2.txt\",\"wt\")\n"
   ]
  },
  {
   "cell_type": "code",
   "execution_count": 3,
   "metadata": {},
   "outputs": [],
   "source": [
    "# 파일 5개를 반복문을 이용해 생성해주세요.\n",
    "for i in range(3, 8):\n",
    "    filename = \"test\" + str(i) + \".txt\"\n",
    "    open(filename, \"wt\")"
   ]
  },
  {
   "cell_type": "code",
   "execution_count": 4,
   "metadata": {},
   "outputs": [],
   "source": [
    "# test2.txt에 hello world가 저장되게 해주세요.(물론 파일에 직접입력하면 안되고, 문법사용해주셔야합니다.)\n",
    "f2 = open(\"test2.txt\",\"wt\")\n",
    "f2.write(\"hello world\")\n",
    "f2.close()"
   ]
  },
  {
   "cell_type": "code",
   "execution_count": 6,
   "metadata": {},
   "outputs": [],
   "source": [
    "# 반복문을 이용해 생성한 test3.txt 파일에 줄바꿈을 적용해서 아래 문장을 저장해주세요.\n",
    "# 안녕하세요.\n",
    "# 저는 홍길동입니다.\n",
    "# 잘부탁드립니다.\n",
    "f3 = open(\"test3.txt\", \"wt\", encoding=\"utf-8\")\n",
    "f3.write(\"안녕하세요.\\n\")\n",
    "f3.write(\"저는 홍길동입니다.\\n\")\n",
    "f3.write(\"잘부탁드립니다.\")\n",
    "f3.close()"
   ]
  },
  {
   "cell_type": "code",
   "execution_count": 8,
   "metadata": {},
   "outputs": [],
   "source": [
    "# 리스트에 있는 내용을 test4.txt에 저장을 해주세요.\n",
    "list1 = [\"사과\", \"배\", \"바나나\", \"딸기\"]\n",
    "f4 = open(\"test4.txt\", \"wt\", encoding=\"utf-8\")\n",
    "for i in list1:\n",
    "    f4.write(i+\"\\n\")\n",
    "f4.close()\n"
   ]
  },
  {
   "cell_type": "code",
   "execution_count": 12,
   "metadata": {},
   "outputs": [
    {
     "name": "stdout",
     "output_type": "stream",
     "text": [
      "버림하기전 원래값 1.6666666666666667\n",
      "버림하고 난 후의 값 1\n"
     ]
    }
   ],
   "source": [
    "# trunc() 버림함수\n",
    "import math\n",
    "n1 = 3\n",
    "n2 = 5\n",
    "print(\"버림하기전 원래값 {}\".format(n2/n1))\n",
    "print(\"버림하고 난 후의 값 {}\".format(math.trunc(n2/n1)))"
   ]
  },
  {
   "cell_type": "code",
   "execution_count": 13,
   "metadata": {},
   "outputs": [
    {
     "name": "stdout",
     "output_type": "stream",
     "text": [
      "총 2 페이지까지 필요합니다.\n"
     ]
    }
   ],
   "source": [
    "# ceil() 주어진 숫자보다 큰 가장 가까운 정수를 찾아주는 함수\n",
    "cnt = int(input(\"총 몇 건의 데이터를 입력받을까요?\"))\n",
    "# 한페이지에는 10개의 데이터만 보여질 수 있다.\n",
    "page = math.ceil(cnt/10)\n",
    "print(\"총 %s 페이지까지 필요합니다.\" %page)"
   ]
  },
  {
   "cell_type": "code",
   "execution_count": 15,
   "metadata": {},
   "outputs": [
    {
     "name": "stdout",
     "output_type": "stream",
     "text": [
      "4.9보다 작으면서 가장 가까운 정수는 4입니다.\n",
      "4.6보다 작으면서 가장 가까운 정수는 4입니다.\n"
     ]
    }
   ],
   "source": [
    "# floor() 주어진 숫자보다 작고 가장 가까운 정수를 찾아주는 함수\n",
    "n1 = 4.9\n",
    "n2 = 4.6\n",
    "print(f\"{n1}보다 작으면서 가장 가까운 정수는 {math.floor(n1)}입니다.\")\n",
    "print(f\"{n2}보다 작으면서 가장 가까운 정수는 {math.floor(n2)}입니다.\")"
   ]
  },
  {
   "cell_type": "code",
   "execution_count": null,
   "metadata": {},
   "outputs": [],
   "source": []
  }
 ],
 "metadata": {
  "interpreter": {
   "hash": "4e0b39fdc4f2df2992ef135d097972ec225e019845a073717c5b1bc8df292c8a"
  },
  "kernelspec": {
   "display_name": "Python 3.10.2 64-bit",
   "language": "python",
   "name": "python3"
  },
  "language_info": {
   "codemirror_mode": {
    "name": "ipython",
    "version": 3
   },
   "file_extension": ".py",
   "mimetype": "text/x-python",
   "name": "python",
   "nbconvert_exporter": "python",
   "pygments_lexer": "ipython3",
   "version": "3.10.2"
  },
  "orig_nbformat": 4
 },
 "nbformat": 4,
 "nbformat_minor": 2
}
