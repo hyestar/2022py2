{
 "cells": [
  {
   "cell_type": "code",
   "execution_count": 2,
   "metadata": {},
   "outputs": [
    {
     "name": "stdout",
     "output_type": "stream",
     "text": [
      "0    1\n",
      "1    2\n",
      "2    3\n",
      "3    4\n",
      "4    8\n",
      "dtype: int64\n"
     ]
    }
   ],
   "source": [
    "#  정수형 series\n",
    "import pandas as pd\n",
    "s=pd.Series([1,2,3,4,8])\n",
    "print(s)\n"
   ]
  },
  {
   "cell_type": "code",
   "execution_count": 3,
   "metadata": {},
   "outputs": [
    {
     "name": "stdout",
     "output_type": "stream",
     "text": [
      "0    1.3\n",
      "1    2.5\n",
      "2    3.6\n",
      "3    2.3\n",
      "4    1.2\n",
      "dtype: float64\n"
     ]
    }
   ],
   "source": [
    "#  실수형 series\n",
    "s = pd.Series([1.3,2.5,3.6,2.3,1.2])\n",
    "print(s)"
   ]
  },
  {
   "cell_type": "code",
   "execution_count": 4,
   "metadata": {},
   "outputs": [
    {
     "name": "stdout",
     "output_type": "stream",
     "text": [
      "0    1.0\n",
      "1    2.5\n",
      "2    3.0\n",
      "3    8.9\n",
      "4    7.0\n",
      "dtype: float64\n"
     ]
    }
   ],
   "source": [
    "#  실수형 series\n",
    "s = pd.Series([1,2.5,3,8.9,7])\n",
    "print(s)"
   ]
  },
  {
   "cell_type": "code",
   "execution_count": 5,
   "metadata": {},
   "outputs": [
    {
     "name": "stdout",
     "output_type": "stream",
     "text": [
      "a    1.0\n",
      "b    2.5\n",
      "c    3.0\n",
      "d    8.9\n",
      "e    7.0\n",
      "dtype: float64\n"
     ]
    }
   ],
   "source": [
    "# 인덱스 지정\n",
    "s = pd.Series([1,2.5,3,8.9,7], index=['a','b','c','d','e'])\n",
    "print(s)"
   ]
  },
  {
   "cell_type": "code",
   "execution_count": 9,
   "metadata": {},
   "outputs": [
    {
     "name": "stdout",
     "output_type": "stream",
     "text": [
      "[1 2 3]\n",
      "[0. 0. 0. 0. 0.]\n",
      "[[1. 1. 1.]\n",
      " [1. 1. 1.]]\n"
     ]
    }
   ],
   "source": [
    "import numpy as np\n",
    "a= np.array([1,2,3])\n",
    "print(a)\n",
    "b = np.zeros(5)\n",
    "print(b)\n",
    "c = np.ones((2,3))\n",
    "print(c)"
   ]
  },
  {
   "cell_type": "code",
   "execution_count": 14,
   "metadata": {},
   "outputs": [
    {
     "name": "stdout",
     "output_type": "stream",
     "text": [
      "[5 5 5 5]\n",
      "[4 6 6 4]\n",
      "2.5\n"
     ]
    }
   ],
   "source": [
    "a = np.array([1,2,3,4])\n",
    "b = np.array([4,3,2,1])\n",
    "# 요소별 합\n",
    "print(np.add(a, b))\n",
    "# 요소별 곱\n",
    "print(np.multiply(a, b))\n",
    "# 어레이값의 평균\n",
    "print(np.mean(b))"
   ]
  },
  {
   "cell_type": "code",
   "execution_count": 16,
   "metadata": {},
   "outputs": [
    {
     "name": "stdout",
     "output_type": "stream",
     "text": [
      "[[0.83537908 0.43676776 0.97503498 0.12526273 0.88013959]\n",
      " [0.38987307 0.73916394 0.89431216 0.32482145 0.81221244]]\n",
      "[[ 0.11321486 -0.44240349  0.09501083  3.11365354]\n",
      " [-1.24604839 -2.35705693 -0.52041559 -1.48935644]]\n"
     ]
    }
   ],
   "source": [
    "# 0과 1사이에서 균일한 분포를 갖는 숫자 샘플링\n",
    "a = np.random.rand(2,5)\n",
    "print(a)\n",
    "# 표준정규분포를 갖는 숫자들 샘플링\n",
    "b = np.random.randn(2,4)\n",
    "print(b)"
   ]
  },
  {
   "cell_type": "code",
   "execution_count": 19,
   "metadata": {},
   "outputs": [
    {
     "name": "stdout",
     "output_type": "stream",
     "text": [
      "3.141592653589793\n",
      "2.718281828459045\n"
     ]
    }
   ],
   "source": [
    "# 파이\n",
    "a = np.pi\n",
    "print(a)\n",
    "# 오일러 상수\n",
    "b = np.e\n",
    "print(b)"
   ]
  },
  {
   "cell_type": "code",
   "execution_count": 22,
   "metadata": {},
   "outputs": [
    {
     "name": "stdout",
     "output_type": "stream",
     "text": [
      "<class 'numpy.ndarray'>\n",
      "[1.2 5.  6.  8. ]\n",
      "float64\n"
     ]
    }
   ],
   "source": [
    "a = np.array([1.2,5,6,8])\n",
    "print(type(a))\n",
    "print(a)\n",
    "# 어레이 요소의 자료형을 알고싶을때\n",
    "print(a.dtype)"
   ]
  },
  {
   "cell_type": "code",
   "execution_count": 24,
   "metadata": {},
   "outputs": [
    {
     "name": "stdout",
     "output_type": "stream",
     "text": [
      "[[1 2 3 4]\n",
      " [1 2 3 4]]\n"
     ]
    }
   ],
   "source": [
    "a = np.array([(1,2,3,4),(1,2,3,4)])\n",
    "print(a)\n"
   ]
  },
  {
   "cell_type": "code",
   "execution_count": 25,
   "metadata": {},
   "outputs": [
    {
     "name": "stdout",
     "output_type": "stream",
     "text": [
      "[[1.+0.j 2.+0.j 3.+0.j]\n",
      " [4.+0.j 5.+0.j 6.+0.j]]\n"
     ]
    }
   ],
   "source": [
    "# 타입 지정\n",
    "a = np.array(([1,2,3],[4,5,6]),dtype = complex)\n",
    "print(a)"
   ]
  },
  {
   "cell_type": "code",
   "execution_count": null,
   "metadata": {},
   "outputs": [],
   "source": []
  }
 ],
 "metadata": {
  "interpreter": {
   "hash": "4e0b39fdc4f2df2992ef135d097972ec225e019845a073717c5b1bc8df292c8a"
  },
  "kernelspec": {
   "display_name": "Python 3.10.2 64-bit",
   "language": "python",
   "name": "python3"
  },
  "language_info": {
   "codemirror_mode": {
    "name": "ipython",
    "version": 3
   },
   "file_extension": ".py",
   "mimetype": "text/x-python",
   "name": "python",
   "nbconvert_exporter": "python",
   "pygments_lexer": "ipython3",
   "version": "3.10.2"
  },
  "orig_nbformat": 4
 },
 "nbformat": 4,
 "nbformat_minor": 2
}
